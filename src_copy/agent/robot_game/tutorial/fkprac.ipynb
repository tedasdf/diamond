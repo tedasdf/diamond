{
 "cells": [
  {
   "cell_type": "markdown",
   "id": "1086c979",
   "metadata": {},
   "source": [
    "# Forward Kinematics\n",
    "\n",
    "\n",
    "calculation of the position and orientation of its end-effector frame from its joint coord"
   ]
  },
  {
   "cell_type": "markdown",
   "id": "dfe7fbcb",
   "metadata": {},
   "source": [
    "![Forward Kinematics Diagram](./assets/Fig4_1.png)"
   ]
  },
  {
   "cell_type": "code",
   "execution_count": 41,
   "id": "9a535aa3",
   "metadata": {},
   "outputs": [],
   "source": [
    "import numpy as np\n",
    "from scipy.linalg import expm"
   ]
  },
  {
   "cell_type": "markdown",
   "id": "32fdb31b",
   "metadata": {},
   "source": [
    "## Method one ( Denavit-Hartenberg)"
   ]
  },
  {
   "cell_type": "code",
   "execution_count": 15,
   "id": "a7a933c4",
   "metadata": {},
   "outputs": [],
   "source": [
    "# let (x, y, phi) be the cartesian position (x,y) and orientation phi\n",
    "# of a 3-link planar manipulator with link lengths L1, L2, and L3\n",
    "\n",
    "# normal way to do this is to use the forward kinematics equations\n",
    "L1 = 10\n",
    "L2 = 10\n",
    "L3 =  5\n",
    "theta1 =  np.pi/16\n",
    "theta2 = np.pi*3/8\n",
    "theta3 =  2*np.pi/16\n",
    "\n",
    "x = L1*np.cos(theta1)  + L2 *np.cos(theta1+ theta2) + L3*np.cos(theta1 + theta2 + theta3)\n",
    "y = L1*np.sin(theta1) + L2 * np.sin(theta1 + theta2) + L3* np.sin(theta1 + theta2 + theta3)\n",
    "phi = theta1 + theta2 + theta3"
   ]
  },
  {
   "cell_type": "markdown",
   "id": "394edc87",
   "metadata": {},
   "source": [
    "Let $T_{xy}$ represent the homogeneous transformation matrix from frame $x$ to frame $y$.\n",
    "\n",
    "Then the complete transformation from frame 0 to frame 4 is given by:\n",
    "\n",
    "$$\n",
    "T_{04} = T_{01} \\cdot T_{12} \\cdot T_{23} \\cdot T_{34}\n",
    "$$\n"
   ]
  },
  {
   "cell_type": "code",
   "execution_count": 17,
   "id": "a42d6d87",
   "metadata": {},
   "outputs": [],
   "source": [
    "T_01 = np.array([\n",
    "            [np.cos(theta1), -np.sin(theta1), 0, 0],\n",
    "            [np.sin(theta1),  np.cos(theta1), 0, 0],\n",
    "            [0,               0,              1, 0],\n",
    "            [0,               0,              0, 1]\n",
    "        ])\n",
    "\n",
    "\n",
    "T_12 = np.array([\n",
    "            [np.cos(theta2), -np.sin(theta2), 0, L1],\n",
    "            [np.sin(theta2),  np.cos(theta2), 0, 0],\n",
    "            [0,               0,              1, 0],\n",
    "            [0,               0,              0, 1]\n",
    "        ])\n",
    "\n",
    "T_23 = np.array([\n",
    "            [np.cos(theta3), -np.sin(theta3), 0, L2],\n",
    "            [np.sin(theta3),  np.cos(theta3), 0, 0],\n",
    "            [0,               0,              1, 0],\n",
    "            [0,               0,              0, 1]\n",
    "        ])\n",
    "\n",
    "T_34 = np.array([\n",
    "            [1, 0, 0, L3],\n",
    "            [0, 1, 0, 0],\n",
    "            [0, 0, 1, 0],\n",
    "            [0, 0, 0, 1]\n",
    "        ])\n",
    "\n",
    "\n",
    "\n",
    "T_04 = T_01 @ T_12 @ T_23 @ T_34\n",
    "\n"
   ]
  },
  {
   "cell_type": "code",
   "execution_count": 22,
   "id": "a6cf5061",
   "metadata": {},
   "outputs": [
    {
     "name": "stdout",
     "output_type": "stream",
     "text": [
      "x = 10.78, y = 16.66, phi = 1.77 rad\n",
      "T_04 =\n",
      "[[-0.19509032 -0.98078528  0.         10.78330441]\n",
      " [ 0.98078528 -0.19509032  0.         16.66268243]\n",
      " [ 0.          0.          1.          0.        ]\n",
      " [ 0.          0.          0.          1.        ]]\n",
      "\n",
      "Translation Matrix: [10.78330441 16.66268243]\n",
      "  ↳ x translation = 10.78\n",
      "  ↳ y translation = 16.66\n",
      "\n",
      "Rotation Matrix:\n",
      "[[-0.19509032 -0.98078528]\n",
      " [ 0.98078528 -0.19509032]]\n",
      "  ↳ rotation angle (rad) = 1.77\n",
      "  ↳ rotation angle (deg) = 101.25°\n",
      "\n",
      "Validation:\n",
      "Translation x == FK x? True\n",
      "Translation y == FK y? True\n",
      "Rotation angle == FK phi? True\n"
     ]
    }
   ],
   "source": [
    "print(f\"x = {x:.2f}, y = {y:.2f}, phi = {phi:.2f} rad\")\n",
    "\n",
    "print(\"T_04 =\")\n",
    "print(T_04)\n",
    "\n",
    "# break down the T_04 into translation and rotation matrices\n",
    "translation_matrix = T_04[:2, 3]\n",
    "print(f\"\\nTranslation Matrix: {translation_matrix}\")\n",
    "print(f\"  ↳ x translation = {translation_matrix[0]:.2f}\")\n",
    "print(f\"  ↳ y translation = {translation_matrix[1]:.2f}\")\n",
    "\n",
    "rotation_matrix = T_04[:2, :2]\n",
    "rotation_angle = np.arctan2(rotation_matrix[1, 0], rotation_matrix[0, 0])\n",
    "print(f\"\\nRotation Matrix:\\n{rotation_matrix}\")\n",
    "print(f\"  ↳ rotation angle (rad) = {rotation_angle:.2f}\")\n",
    "print(f\"  ↳ rotation angle (deg) = {np.degrees(rotation_angle):.2f}°\")\n",
    "\n",
    "# Validation between T_04 and the forward kinematics equations\n",
    "print(\"\\nValidation:\")\n",
    "print(f\"Translation x == FK x? {bool(np.isclose(translation_matrix[0], x))}\")\n",
    "print(f\"Translation y == FK y? {bool(np.isclose(translation_matrix[1], y))}\")\n",
    "print(f\"Rotation angle == FK phi? {bool(np.isclose(rotation_angle, phi))}\")\n",
    "\n"
   ]
  },
  {
   "cell_type": "markdown",
   "id": "f9f59e07",
   "metadata": {},
   "source": []
  },
  {
   "cell_type": "markdown",
   "id": "7a9f95d1",
   "metadata": {},
   "source": [
    "## Method two (Product of Exponentials)"
   ]
  },
  {
   "cell_type": "markdown",
   "id": "33380340",
   "metadata": {},
   "source": [
    "let M be the position and orientation of end frame {4} when all joint angles are set to zero ( called either \"home\" position and \"zero\" position fo the robot) Then"
   ]
  },
  {
   "cell_type": "code",
   "execution_count": 23,
   "id": "d36fe466",
   "metadata": {},
   "outputs": [],
   "source": [
    "M = np.array([\n",
    "    [1, 0, 0, L1+ L2+L3],\n",
    "    [0, 1, 0, 0],\n",
    "    [0, 0, 1, 0],\n",
    "    [0, 0, 0, 1]\n",
    "])\n"
   ]
  },
  {
   "cell_type": "markdown",
   "id": "e6ba43c9",
   "metadata": {},
   "source": [
    "When arm is strecthed out straight to the right at its zero configuration, "
   ]
  },
  {
   "cell_type": "code",
   "execution_count": 45,
   "id": "3e4f2968",
   "metadata": {},
   "outputs": [],
   "source": [
    "w3 = np.array([ 0 , 0, 1]) # rotation axis of the end effector in the base frame\n",
    "# w3[0] = 0 # rotation around x-axis\n",
    "# w3[1] = 0 # rotation around y-axis\n",
    "# w3[2] = 1 # rotation around z-axis\n",
    "\n",
    "q3 = np.array([L1+L2, 0, 0]) # angular velocity of the end effector in the base frame\n",
    "# position from the base frame to the joint\n",
    "# q3[0] = L1+L2 # x-axis\n",
    "# q3[1] = 0 # y-axis\n",
    "# q3[2] = 0 # z-axis\n",
    "\n",
    "v3 = -1 * np.cross(w3, q3)\n"
   ]
  },
  {
   "cell_type": "code",
   "execution_count": 46,
   "id": "4c186207",
   "metadata": {},
   "outputs": [],
   "source": [
    "def make_twist_matrix(w,v):\n",
    "    \"\"\"Create a twist matrix from a 3D vector.\"\"\"\n",
    "    return np.hstack((w, v)).reshape(6,1)\n",
    "\n",
    "def make_screw_axis_matrix(w,v):\n",
    "    \"\"\"Create a screw axis matrix from a 3D vector.\"\"\"\n",
    "    return np.array([\n",
    "        [0, -w[2], w[1], v[0]],\n",
    "        [w[2], 0, -w[0], v[1]],\n",
    "        [-w[1], w[0], 0, v[2]],\n",
    "        [0, 0, 0, 0]\n",
    "    ])"
   ]
  },
  {
   "cell_type": "code",
   "execution_count": 47,
   "id": "d94ad335",
   "metadata": {},
   "outputs": [
    {
     "name": "stdout",
     "output_type": "stream",
     "text": [
      "\n",
      "S3_twist:\n",
      "[[  0]\n",
      " [  0]\n",
      " [  1]\n",
      " [  0]\n",
      " [-20]\n",
      " [  0]]\n",
      "\n",
      "S3_twist_matrix:\n",
      "[[  0  -1   0   0]\n",
      " [  1   0   0 -20]\n",
      " [  0   0   0   0]\n",
      " [  0   0   0   0]]\n"
     ]
    }
   ],
   "source": [
    "S3_twist = make_twist_matrix(w3, v3)\n",
    "S3_twist_matrix = make_screw_axis_matrix(w3, v3)\n",
    "\n",
    "print(\"\\nS3_twist:\")\n",
    "print(S3_twist)\n",
    "print(\"\\nS3_twist_matrix:\")\n",
    "print(S3_twist_matrix)\n"
   ]
  },
  {
   "cell_type": "code",
   "execution_count": 62,
   "id": "14519400",
   "metadata": {},
   "outputs": [
    {
     "name": "stdout",
     "output_type": "stream",
     "text": [
      "✅ T_04_1 and T_04_2 match!\n",
      "T_04_1:\n",
      " [[ 8.32667268e-17 -1.00000000e+00  0.00000000e+00  1.17587560e+01]\n",
      " [ 1.00000000e+00  8.32667268e-17  0.00000000e+00  1.67587560e+01]\n",
      " [ 0.00000000e+00  0.00000000e+00  1.00000000e+00  0.00000000e+00]\n",
      " [ 0.00000000e+00  0.00000000e+00  0.00000000e+00  1.00000000e+00]]\n",
      "T_04_2:\n",
      " [[ 8.32667268e-17 -1.00000000e+00  0.00000000e+00  1.17587560e+01]\n",
      " [ 1.00000000e+00  8.32667268e-17  0.00000000e+00  1.67587560e+01]\n",
      " [ 0.00000000e+00  0.00000000e+00  1.00000000e+00  0.00000000e+00]\n",
      " [ 0.00000000e+00  0.00000000e+00  0.00000000e+00  1.00000000e+00]]\n",
      "Difference:\n",
      " [[0. 0. 0. 0.]\n",
      " [0. 0. 0. 0.]\n",
      " [0. 0. 0. 0.]\n",
      " [0. 0. 0. 0.]]\n"
     ]
    }
   ],
   "source": [
    "# Testing T04 calculated from method two and method one\n",
    "\n",
    "# Parameters:\n",
    "L1 = 10\n",
    "L2 = 10\n",
    "L3 =  5\n",
    "theta1 =  np.pi/16\n",
    "theta2 = np.pi*3/8\n",
    "theta3 = np.pi/16\n",
    "\n",
    "\n",
    "# Method 1: Forward Kinematics\n",
    "\n",
    "T_01 = np.array([\n",
    "            [np.cos(theta1), -np.sin(theta1), 0, 0],\n",
    "            [np.sin(theta1),  np.cos(theta1), 0, 0],\n",
    "            [0,               0,              1, 0],\n",
    "            [0,               0,              0, 1]\n",
    "        ])\n",
    "\n",
    "\n",
    "T_12 = np.array([\n",
    "            [np.cos(theta2), -np.sin(theta2), 0, L1],\n",
    "            [np.sin(theta2),  np.cos(theta2), 0, 0],\n",
    "            [0,               0,              1, 0],\n",
    "            [0,               0,              0, 1]\n",
    "        ])\n",
    "\n",
    "T_23 = np.array([\n",
    "            [np.cos(theta3), -np.sin(theta3), 0, L2],\n",
    "            [np.sin(theta3),  np.cos(theta3), 0, 0],\n",
    "            [0,               0,              1, 0],\n",
    "            [0,               0,              0, 1]\n",
    "        ])\n",
    "\n",
    "T_34 = np.array([\n",
    "            [1, 0, 0, L3],\n",
    "            [0, 1, 0, 0],\n",
    "            [0, 0, 1, 0],\n",
    "            [0, 0, 0, 1]\n",
    "        ])\n",
    "\n",
    "\n",
    "\n",
    "T_04_1 = T_01 @ T_12 @ T_23 @ T_34\n",
    "\n",
    "\n",
    "# Method 2: Using the screw axis and the exponential map\n",
    "# Define the screw axis for each joint\n",
    "\n",
    "w3 = np.array([ 0 , 0, 1])\n",
    "q3 = np.array([L1+L2, 0, 0])\n",
    "v3 = -1 * np.cross(w3, q3)\n",
    "\n",
    "w2 = np.array([ 0 , 0, 1])\n",
    "q2 = np.array([L1, 0, 0])\n",
    "v2 = -1 * np.cross(w2, q2)\n",
    "\n",
    "w1 = np.array([ 0 , 0, 1])\n",
    "q1 = np.array([0, 0, 0])\n",
    "v1 = -1 * np.cross(w1, q1)\n",
    "\n",
    "S3_screw = make_screw_axis_matrix(w3, v3)\n",
    "S2_screw = make_screw_axis_matrix(w2, v2)\n",
    "S1_screw = make_screw_axis_matrix(w1, v1)\n",
    "# T_04_2 =  expm(S3_screw * theta3) @ M \n",
    "# or \n",
    "\n",
    "def make_exp_matrix(S, theta):\n",
    "    \"\"\"Create the exponential matrix from a screw axis and angle.\"\"\"\n",
    "    size = S.shape[0]\n",
    "    return np.eye(size) + np.sin(theta) * S + (1 - np.cos(theta)) * S @ S\n",
    "\n",
    "T_04_2 =  make_exp_matrix(S1_screw, theta1) @ make_exp_matrix(S2_screw, theta2) @ make_exp_matrix(S3_screw, theta3) @ M\n",
    "\n",
    "if np.allclose(T_04_1, T_04_2, atol=1e-6):\n",
    "    print(\"✅ T_04_1 and T_04_2 match!\")\n",
    "else:\n",
    "    print(\"❌ T_04_1 and T_04_2 differ.\")\n",
    "print(\"T_04_1:\\n\", T_04_1)\n",
    "print(\"T_04_2:\\n\", T_04_2)\n",
    "print(\"Difference:\\n\", T_04_1 - T_04_2)"
   ]
  },
  {
   "cell_type": "markdown",
   "id": "4767d1af",
   "metadata": {},
   "source": [
    "Joint n is displaced to some joint value $theta_{n}$. The end-effector frame M then undergoes a displacement of the form\n",
    "\n",
    "$$\n",
    "T = e^{[S_n] \\theta_n} M\n",
    "$$\n",
    "\n",
    "\n",
    "To calculate this, we need:\n",
    "1) end-effector configuration M @ home position\n",
    "2) the screw axes $S_{1},....,S_{n}$ \n",
    "3) the joint variables $theta_{1},...,theta_{n}$\n"
   ]
  },
  {
   "cell_type": "markdown",
   "id": "b070480c",
   "metadata": {},
   "source": [
    "## example \n",
    "\n",
    "\n",
    "![Forward Kinematics Diagram](./assets/Fig4_2.png)\n"
   ]
  },
  {
   "cell_type": "code",
   "execution_count": 63,
   "id": "cc9c2a56",
   "metadata": {},
   "outputs": [],
   "source": [
    "R = np.array([\n",
    "    [0, 0, 1],\n",
    "    [0, 1, 0],\n",
    "    [-1, 0, 0]\n",
    "])\n",
    "\n",
    "t = np.array([L1, 0, -L2])\n",
    "\n",
    "# Construct the homogeneous transformation matrix M\n",
    "M = np.block([\n",
    "    [R, t.reshape(3, 1)],\n",
    "    [np.zeros((1, 3)), np.array([[1]])]\n",
    "])"
   ]
  },
  {
   "cell_type": "code",
   "execution_count": 64,
   "id": "262d8b7e",
   "metadata": {},
   "outputs": [
    {
     "name": "stdout",
     "output_type": "stream",
     "text": [
      "\n",
      "S1_screw:\n",
      "[[ 0 -1  0  0]\n",
      " [ 1  0  0  0]\n",
      " [ 0  0  0  0]\n",
      " [ 0  0  0  0]]\n",
      "\n",
      "S2_screw:\n",
      "[[  0   0  -1   0]\n",
      " [  0   0   0   0]\n",
      " [  1   0   0 -10]\n",
      " [  0   0   0   0]]\n",
      "\n",
      "S3_screw:\n",
      "[[  0   0   0   0]\n",
      " [  0   0  -1 -10]\n",
      " [  0   1   0   0]\n",
      " [  0   0   0   0]]\n"
     ]
    }
   ],
   "source": [
    "w1 = np.array([0, 0, 1])\n",
    "q1 = np.array([0, 0, 0])\n",
    "\n",
    "\n",
    "w2 = np.array([0, -1, 0])\n",
    "q2 = np.array([L1, 0, 0])\n",
    "\n",
    "\n",
    "w3 = np.array([1, 0, 0])\n",
    "q3 = np.array([L1, 0, -L2])\n",
    "\n",
    "v1 = -np.cross(w1, q1)\n",
    "v2 = -np.cross(w2, q2)\n",
    "v3 = -np.cross(w3, q3)\n",
    "\n",
    "S1_screw = make_screw_axis_matrix(w1, v1)\n",
    "S2_screw = make_screw_axis_matrix(w2, v2)\n",
    "S3_screw = make_screw_axis_matrix(w3, v3)\n",
    "\n",
    "\n",
    "\n",
    "print(\"\\nS1_screw:\")\n",
    "print(S1_screw)\n",
    "print(\"\\nS2_screw:\")\n",
    "print(S2_screw)\n",
    "print(\"\\nS3_screw:\")\n",
    "print(S3_screw)"
   ]
  },
  {
   "cell_type": "markdown",
   "id": "513ae67c",
   "metadata": {},
   "source": [
    "## Second Formulation : Screw Axes in the End-Effector Frame\n",
    "\n",
    "\n",
    "$$\n",
    "e^{M^{-1} P M} = M^{-1} e^P M\n",
    "$$\n",
    "\n",
    "\n",
    "$$\n",
    "M e^{M^{-1} P M} =  e^P M\n",
    "$$\n",
    "\n",
    "\n",
    "$$\n",
    "T = M e^{[B_n] \\theta_n}\n",
    "$$\n",
    "\n",
    "$$\n",
    "B_n = M^{-1} [S_n] M\n",
    "$$\n",
    "\n",
    "\n",
    "\n",
    "i.e\n",
    "\n",
    "$B_i = [A d_{M-1}] S_i , i = 1, ... , n$"
   ]
  },
  {
   "cell_type": "markdown",
   "id": "60654291",
   "metadata": {},
   "source": [
    "\n",
    "![Forward Kinematics Diagram](./assets/Fig4_4.png)"
   ]
  },
  {
   "cell_type": "code",
   "execution_count": null,
   "id": "f1b9915b",
   "metadata": {},
   "outputs": [],
   "source": [
    "# parameters\n",
    "L= 10\n",
    "# calculate B\n",
    "def make_B_matrix(M, S):\n",
    "    \"\"\"Create the B matrix from the transformation matrix M and screw axis S.\"\"\"    \n",
    "    R = M[:3, :3]\n",
    "    t = M[:3, 3]\n",
    "\n",
    "    adj = np.block([\n",
    "        [R.T, np.zeros((3, 3))],\n",
    "        [(-R.T @ t) @ R.T, R.T]\n",
    "    ])\n",
    "\n",
    "    return adj @ S\n",
    "\n",
    "\n",
    "w1 = np.array([0, 0, 1])\n",
    "v1 = np.array([-3*L, 0, 0])\n",
    "\n",
    "w2 = np.array([0, 1, 0])\n",
    "v2 = np.array([0, 0, 0])\n",
    "\n",
    "w3 = np.array([-1, 0, 0])\n",
    "v3 = np.array([0, 0, -3*L])\n",
    "\n",
    "w4 = np.array([-1, 0, 0])\n",
    "v4 = np.array([0, 0, -2*L])\n",
    "\n",
    "w5 = np.array([-1, 0, 0])\n",
    "v5 = np.array([0, 0, -L])\n",
    "\n",
    "w6 = np.array([0, 1, 0])\n",
    "v6 = np.array([0, 0, 0])\n",
    "\n",
    "\n",
    "S1 = make_screw_axis_matrix(w1, v1)\n",
    "S2 = make_screw_axis_matrix(w2, v2)\n",
    "S3 = make_screw_axis_matrix(w3, v3)\n",
    "S4 = make_screw_axis_matrix(w4, v4)\n",
    "S5 = make_screw_axis_matrix(w5, v5)\n",
    "S6 = make_screw_axis_matrix(w6, v6)\n",
    "\n",
    "\n",
    "# Calculate the B matrix for each screw axis\n",
    "B1 = make_B_matrix(M, S1)\n",
    "B2 = make_B_matrix(M, S2)\n",
    "B3 = make_B_matrix(M, S3)\n",
    "B4 = make_B_matrix(M, S4)\n",
    "B5 = make_B_matrix(M, S5)\n",
    "B6 = make_B_matrix(M, S6)\n"
   ]
  },
  {
   "cell_type": "markdown",
   "id": "734839a9",
   "metadata": {},
   "source": []
  }
 ],
 "metadata": {
  "kernelspec": {
   "display_name": "playground",
   "language": "python",
   "name": "python3"
  },
  "language_info": {
   "codemirror_mode": {
    "name": "ipython",
    "version": 3
   },
   "file_extension": ".py",
   "mimetype": "text/x-python",
   "name": "python",
   "nbconvert_exporter": "python",
   "pygments_lexer": "ipython3",
   "version": "3.11.11"
  }
 },
 "nbformat": 4,
 "nbformat_minor": 5
}
