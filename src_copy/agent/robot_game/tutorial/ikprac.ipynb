{
 "cells": [
  {
   "cell_type": "code",
   "execution_count": 12,
   "id": "f2ec7c27",
   "metadata": {},
   "outputs": [
    {
     "ename": "ImportError",
     "evalue": "cannot import name 'make_exp_matrix' from 'utils.base' (c:\\Users\\teeds\\Desktop\\projects\\diamond\\src_copy\\agent\\robot_game\\tutorial\\utils\\base.py)",
     "output_type": "error",
     "traceback": [
      "\u001b[31m---------------------------------------------------------------------------\u001b[39m",
      "\u001b[31mImportError\u001b[39m                               Traceback (most recent call last)",
      "\u001b[36mCell\u001b[39m\u001b[36m \u001b[39m\u001b[32mIn[12]\u001b[39m\u001b[32m, line 3\u001b[39m\n\u001b[32m      1\u001b[39m \u001b[38;5;28;01mimport\u001b[39;00m\u001b[38;5;250m \u001b[39m\u001b[34;01mnumpy\u001b[39;00m\u001b[38;5;250m \u001b[39m\u001b[38;5;28;01mas\u001b[39;00m\u001b[38;5;250m \u001b[39m\u001b[34;01mnp\u001b[39;00m\n\u001b[32m----> \u001b[39m\u001b[32m3\u001b[39m \u001b[38;5;28;01mfrom\u001b[39;00m\u001b[38;5;250m \u001b[39m\u001b[34;01mutils\u001b[39;00m\u001b[34;01m.\u001b[39;00m\u001b[34;01mbase\u001b[39;00m\u001b[38;5;250m \u001b[39m\u001b[38;5;28;01mimport\u001b[39;00m rotation_matrix, make_B_matrix, make_exp_matrix\n",
      "\u001b[31mImportError\u001b[39m: cannot import name 'make_exp_matrix' from 'utils.base' (c:\\Users\\teeds\\Desktop\\projects\\diamond\\src_copy\\agent\\robot_game\\tutorial\\utils\\base.py)"
     ]
    }
   ],
   "source": [
    "import numpy as np\n",
    "\n",
    "from utils.base import rotation_matrix, make_B_matrix, make_exp_matrix"
   ]
  },
  {
   "cell_type": "markdown",
   "id": "004a424b",
   "metadata": {},
   "source": [
    "# Inverse Kinematics\n"
   ]
  },
  {
   "cell_type": "markdown",
   "id": "16a2e401",
   "metadata": {},
   "source": [
    "### Revise \n",
    "\n",
    "![ Inverse kinematics of a 2R planar open chain.](./assets/fig6_1.png)\n",
    "\n",
    "\n",
    "\n",
    "The forward kinematics can be expressed as:\n",
    "\n",
    "\n",
    "$$\n",
    "\\begin{bmatrix}\n",
    "x \\\\\n",
    "y\n",
    "\\end{bmatrix}\n",
    "=\n",
    "\\begin{bmatrix}\n",
    "L_1 \\cos \\theta_1 + L_2 \\cos(\\theta_1 + \\theta_2) \\\\\n",
    "L_1 \\sin \\theta_1 + L_2 \\sin(\\theta_1 + \\theta_2)\n",
    "\\end{bmatrix}\n",
    "$$\n",
    "\n",
    "\n",
    "Assuming $ L_1 > L_2$  ,  the set of reachable points is an annulus of inner radius $L_1 - L_2$ and outer radius $L_1 + L_2$ . In this workspace , any given point will be either one / two solutions\n"
   ]
  },
  {
   "cell_type": "markdown",
   "id": "612c88e2",
   "metadata": {},
   "source": [
    "Finding an explicit solution $ ( \\theta_1 , \\theta_2)$ for given (x,y), using law of cosines,\n",
    "\n",
    "$$\n",
    "c^2 = a^2 + b^2 - 2 a b cos(C)\n",
    "$$\n",
    "\n",
    "$$\n",
    "L_1 ^2 + L_2^2 - 2 L_1 L_2 cos(\\beta) = x^2 + y^2\n",
    "$$\n",
    "\n",
    "\n",
    ",where\n",
    "$$\n",
    "\\beta = \\cos^{-1} \\left( \\frac{L_1^2 + L_2^2 - x^2 - y^2}{2 L_1 L_2} \\right)\n",
    "$$\n",
    "and \n",
    "$$\n",
    "\\alpha = \\cos^{-1} \\left( \\frac{x^2 + y^2 + L_1^2 - L_2^2}{2 L_1 \\sqrt{x^2 + y^2}} \\right)\n",
    "$$\n",
    "\n",
    "The angle $ \\gamma = \\mathrm{atan2}(y, x)$. With:\n",
    "\n",
    "righty solution:\n",
    "\n",
    "$$\n",
    "\\theta_1 = \\gamma - \\alpha , \\theta_2 = \\pi - \\beta\n",
    "$$\n",
    "\n",
    "left solution:\n",
    "\n",
    "$$\n",
    "\\theta_1 = \\gamma + \\alpha , \\theta_2 = \\beta - \\pi\n",
    "$$"
   ]
  },
  {
   "cell_type": "markdown",
   "id": "b8a5673b",
   "metadata": {},
   "source": [
    "## Inverse kinematics of spatial open chains with six degress of freedom\n",
    "\n",
    "\n",
    "\n",
    "Forward kinematics:\n",
    "\n",
    "$$\n",
    "T(\\boldsymbol{\\theta}) = e^{[S_1]\\theta_1} e^{[S_2]\\theta_2} e^{[S_3]\\theta_3} e^{[S_4]\\theta_4} e^{[S_5]\\theta_5} e^{[S_6]\\theta_6} M\n",
    "$$\n",
    "\n",
    "Given some end-effector frame $ X \\in SE(3) $, the inverse kinematics problem is to\n",
    "find solutions $ \\theta \\in \\mathbb{R}^6 $ satisfying $ T(\\theta) = X $.\n",
    "In the following subsections, we derive analytic inverse kinematic solutions\n",
    "for the PUMA and Stanford arms.\n"
   ]
  },
  {
   "cell_type": "markdown",
   "id": "26cb2422",
   "metadata": {},
   "source": [
    "### example \n",
    "\n",
    "![ Inverse kinematics of a 6R PUMA-type arm.](./assets/fig6_2.png)"
   ]
  },
  {
   "cell_type": "code",
   "execution_count": null,
   "id": "47bc0e24",
   "metadata": {},
   "outputs": [],
   "source": [
    "d1 = 0\n",
    "\n",
    "px, py, pz = 1.0, 2.0, 3.0\n",
    "\n",
    "a1, a2, a3 = 0.1, 0.2, 0.3\n"
   ]
  },
  {
   "cell_type": "code",
   "execution_count": null,
   "id": "cf7c258c",
   "metadata": {},
   "outputs": [],
   "source": [
    "if d1 == 0: # no offset\n",
    "\n",
    "\n",
    "    # Calculate the angles theta1 and theta2\n",
    "    theta1 = np.arctan2(py, px)\n",
    "    # or \n",
    "    # theta1 = np.arctan2(py,px)+np.pi if px < 0 else np.arctan2(py,px)\n",
    "    # as long as px, py != 0 both are valid\n",
    "\n",
    "    # when px = py = 0\n",
    "    # theta1 has infinite solutions\n"
   ]
  },
  {
   "cell_type": "markdown",
   "id": "147de75d",
   "metadata": {},
   "source": [
    "![A 6R PUMA-type arm with a shoulder offset.](./assets/fig6_3.png)"
   ]
  },
  {
   "cell_type": "code",
   "execution_count": null,
   "id": "aaaacde3",
   "metadata": {},
   "outputs": [],
   "source": [
    "if d1 != 0:\n",
    "    # in general there will be 2 solutions for theta1 , right and left\n",
    "    r = px**2 + py**2\n",
    "    phi = np.arctan2(py,px)\n",
    "    alpha = np.arctan2(d1, np.sqrt(r - d1**2))\n",
    "\n",
    "    theta1 = phi - alpha\n",
    "    # or\n",
    "    # theta1 = pi + atan2(py,px) +artan2(-sqrt(px^2 + py^2 - d1^2 ), d1) "
   ]
  },
  {
   "cell_type": "code",
   "execution_count": null,
   "id": "e2cdfe0f",
   "metadata": {},
   "outputs": [],
   "source": [
    "theta3 = np.acos(r**2 - d1**2 + pz**2 - a2**2 - a3**2) / (2*a2*a3)\n",
    "# or\n",
    "# theta3 = pi - acos(px^2 + py^2  - d1^2 + pz^2 - a2^2 - a3^2) / (2*a2*a3)\n",
    "\n",
    "D = np.cos(theta3)\n",
    "# theta3 = artan2(+/-np.sqrt(1 - D**2), D)\n",
    "\n",
    "theta2 = np.arctan2(pz, np.sqrt(r**2 - d1**2))- np.arctan2(a3*np.sin(theta3), a2 + a3*np.cos(theta3))\n",
    "# or\n",
    "# theta2 = pi - atan2(pz, sqrt(px^2 + py^2 - d1^2)) - atan2(a3*sin(theta3), a2 + a3*cos(theta3))"
   ]
  },
  {
   "cell_type": "markdown",
   "id": "20a68239",
   "metadata": {},
   "source": [
    "### next setion\n",
    "finding $(\\theta_4, \\theta_5, \\theta_6)$ given the end-effector orientation . After finding $(\\theta_1, \\theta_2, \\theta_3)$ , the forward kinematics can be restructured as :\n",
    "\n",
    "$$\n",
    "e^{-[S_3]\\theta_3} e^{-[S_2]\\theta_2} e^{-[S_1]\\theta_1} X M^{-1} = e^{[S_4]\\theta_4} e^{[S_5]\\theta_5} e^{[S_6]\\theta_6}\n",
    "$$\n",
    "\n",
    "where the right-hand size is now known and the $w_i$ components of $S_{4,5,6}$"
   ]
  },
  {
   "cell_type": "code",
   "execution_count": null,
   "id": "d6ea0503",
   "metadata": {},
   "outputs": [],
   "source": [
    "w4 = np.array([0, 0, 1])\n",
    "w5 = np.array([0, 1, 0])\n",
    "w6 = np.array([1, 0, 0])\n",
    "\n",
    "\n",
    "\n",
    "R = rotation_matrix('z', theta4) @ rotation_matrix('y', theta5) @ rotation_matrix('x', theta6)"
   ]
  },
  {
   "cell_type": "markdown",
   "id": "267a5a88",
   "metadata": {},
   "source": [
    "### Stanford-Type Arm\n",
    "\n",
    "\n",
    "RRPRRR arm\n",
    "\n",
    "\n",
    "![The first three joints of a Stanford-type arm.](./assets/fig6_6.png)\n",
    "\n",
    "\n",
    "\n"
   ]
  },
  {
   "cell_type": "code",
   "execution_count": null,
   "id": "1db4d86e",
   "metadata": {},
   "outputs": [],
   "source": [
    "r = np.sqrt(px**2 + py**2)\n",
    "s = pz - d1\n",
    "\n",
    "theta1 = np.arctan2(py, px) # if px == py == 0\n",
    "theta2 = np.arctan2(r,s)\n",
    "\n",
    "# theta1 = np.arctan2(py, px) + np.pi second solution for theta1\n",
    "# theta2 = pi - np.arctan2(r,s) second solution for theta2 \n",
    "\n",
    "# translation distance\n",
    "theta3 = np.sqrt(r**2 + s**2) - a2 \n"
   ]
  },
  {
   "cell_type": "markdown",
   "id": "3bd4a8f6",
   "metadata": {},
   "source": [
    "### Numerical Inverse Kinematics"
   ]
  },
  {
   "cell_type": "markdown",
   "id": "106e7037",
   "metadata": {},
   "source": [
    "#### Newton-Raphson Method\n",
    "\n",
    "To solve the equation $g(\\theta) = 0$ , assuming $\\theta^(0)$ is an initial guess.\n",
    "\n",
    "$$\n",
    "g(\\theta) = g(\\theta^0) + \\frac{\\partial g}{\\partial \\theta}(\\theta^0)(\\theta - \\theta^0) + \\text{higher-order terms (h.o.t.)}\n",
    "$$\n",
    "\n",
    "keeping only the terms up to first order\n",
    "\n",
    "$$\n",
    "\\theta = \\theta^{0} - (\\frac{\\partial g}{\\partial \\theta}(\\theta^0))^{-1} g(\\theta^0)\n",
    "$$\n",
    "\n",
    "which can also phrase as an iterative guess\n",
    "\n",
    "$$\n",
    "\\theta^{k+1} = \\theta^{k} - (\\frac{\\partial g}{\\partial \\theta}(\\theta^k))^{-1} g(\\theta^k)\n",
    "$$\n",
    "\n",
    "Repeat until $\n",
    "\\frac{|g(\\theta_k) - g(\\theta_{k+1})|}{|g(\\theta_k)|} \\leq \\epsilon\n",
    "$. \n",
    "\n",
    "\n",
    "Applied for g is multi dimensional\n",
    "\n",
    "e.g :\n",
    "$$\n",
    "\\frac{\\partial g}{\\partial \\theta}(\\theta) =\n",
    "\\begin{bmatrix}\n",
    "\\frac{\\partial g_1}{\\partial \\theta_1}(\\theta) & \\cdots & \\frac{\\partial g_1}{\\partial \\theta_n}(\\theta) \\\\\n",
    "\\vdots & \\ddots & \\vdots \\\\\n",
    "\\frac{\\partial g_n}{\\partial \\theta_1}(\\theta) & \\cdots & \\frac{\\partial g_n}{\\partial \\theta_n}(\\theta)\n",
    "\\end{bmatrix}\n",
    "\\in \\mathbb{R}^{n \\times n}.\n",
    "$$\n",
    "\n",
    "\n"
   ]
  },
  {
   "cell_type": "markdown",
   "id": "2ffdbbc0",
   "metadata": {},
   "source": [
    "### Numerical Inverse Kinematic Algorithm\n",
    "\n",
    "express end-effecotr frame using a coodinate vector $x$ governed by the forward kineatics $x=f(\\theta)$\n",
    "\n",
    "let $x_d$ be the desired end-effector coordintaes. \n",
    "\n",
    "$$\n",
    "g(\\theta_d) = x_d - f(\\theta_d) = 0\n",
    "$$\n",
    "\n",
    "Guess an initial guess $\\theta^0$ which is \"close to\" a solution:\n",
    "\n",
    "$$\n",
    "x_d = f(\\theta_d) = f(\\theta_0) + \n",
    "\\underbrace{\\frac{\\partial f}{\\partial \\theta}(\\theta_0)}_{J(\\theta_0)}\n",
    "\\underbrace{(\\theta_d - \\theta_0)}_{\\Delta \\theta} \n",
    "+ \\text{h.o.t.}\n",
    "$$\n",
    "\n",
    "$$\n",
    "J(\\theta_0) \\theta_d = x_d - f(\\theta^0)\n",
    "$$\n",
    "\n",
    "if $J(\\theta_0)$ is square and invertiable \n",
    "\n",
    "$$\n",
    "\\theta_d = J^{-1}(\\theta_0) x_d - f(\\theta^0)\n",
    "$$\n",
    "\n",
    "IF $J$ is not invertible , either:\n",
    "- not square \n",
    "- singular\n",
    "\n",
    "then $J^{-1}$ does not exist Then use:\n",
    "\n",
    "$$\n",
    "y^* = J^\\dagger z\n",
    "$$\n",
    "\n",
    "\n",
    "falls into two categories:\n",
    "\n",
    "- the solution satifies above equation for any solution . then $y^*$ minimizes the two-norm\n",
    "\n",
    "- IF no y satisfy . then $y^*$ minimises the two-norm of the error\n",
    "\n",
    "\n",
    "IF $J$ is full rank( rank $m$ for $n > m$) the robot is not at a singularity\n",
    "\n",
    "$$\n",
    "J^\\dagger = J^T(J J^T)^{-1} \\text{if n > m}\n",
    "$$\n",
    "$$\n",
    "J^\\dagger = (J J^T)^{-1} J^T \\text{if n < m}\n",
    "\n",
    "\n",
    "\n"
   ]
  },
  {
   "cell_type": "code",
   "execution_count": null,
   "id": "9fd38c32",
   "metadata": {},
   "outputs": [],
   "source": [
    "def NewRap(xd, theta ,epilson , f , J):\n",
    "    i = 0\n",
    "    e = xd - f(theta)\n",
    "    while e > epilson:\n",
    "        theta = theta + J(theta) * 0.1\n",
    "        e = xd - f(theta)\n",
    "        i += 1\n",
    "    return theta, i, e"
   ]
  },
  {
   "cell_type": "code",
   "execution_count": null,
   "id": "f420d067",
   "metadata": {},
   "outputs": [],
   "source": [
    "def body_twist(theta, Tsd):\n",
    "    i = 0\n",
    "    Vb = np.log(np.linalg.pinv(Tsb(theta)))"
   ]
  },
  {
   "cell_type": "markdown",
   "id": "1cdc41df",
   "metadata": {},
   "source": [
    "![(Left) A 2R robot. (Right) The goal is to find the joint angles yielding the\n",
    "end-effector frame {goal} corresponding to θ1 = 30◦\n",
    "and θ2 = 90◦\n",
    ". The initial guess is\n",
    "(0◦\n",
    ", 30◦\n",
    "). After one Newton–Raphson iteration, the calculated joint angles are\n",
    "(34.23◦\n",
    ", 79.18◦\n",
    "). The screw axis that takes the initial frame to the goal frame (by means\n",
    "of the curved dashed line) is also indicated.](./assets/fig6_8.png)"
   ]
  },
  {
   "cell_type": "code",
   "execution_count": 11,
   "id": "8c4ed8a1",
   "metadata": {},
   "outputs": [
    {
     "ename": "NameError",
     "evalue": "name 'make_exp_matrix' is not defined",
     "output_type": "error",
     "traceback": [
      "\u001b[31m---------------------------------------------------------------------------\u001b[39m",
      "\u001b[31mNameError\u001b[39m                                 Traceback (most recent call last)",
      "\u001b[36mCell\u001b[39m\u001b[36m \u001b[39m\u001b[32mIn[11]\u001b[39m\u001b[32m, line 27\u001b[39m\n\u001b[32m     23\u001b[39m e_v = \u001b[32m10\u001b[39m^-\u001b[32m4\u001b[39m \u001b[38;5;66;03m# m\u001b[39;00m\n\u001b[32m     26\u001b[39m \u001b[38;5;66;03m# Jacobian matrix\u001b[39;00m\n\u001b[32m---> \u001b[39m\u001b[32m27\u001b[39m T01 = \u001b[43mmake_exp_matrix\u001b[49m(B1, theta_0[\u001b[32m0\u001b[39m])\n\u001b[32m     28\u001b[39m T12 = make_exp_matrix(B2, theta_0[\u001b[32m1\u001b[39m])\n\u001b[32m     31\u001b[39m T02 = T01 @ T12\n",
      "\u001b[31mNameError\u001b[39m: name 'make_exp_matrix' is not defined"
     ]
    }
   ],
   "source": [
    "\n",
    "# finding the joint angles that place the tip of the robot at (x,y) = (0.366m , 1.366m ), which corresponds to \n",
    "# theta_d = (30 , 90)\n",
    "\n",
    "Tsd = np.array([\n",
    "    [-0.5 , -0.866, 0 , 0.366],\n",
    "    [0.866, -0.5, 0 , 1.366],\n",
    "    [0, 0, 1 , 0],\n",
    "    [0, 0, 0 , 1]\n",
    "])\n",
    "\n",
    "M = np.array([\n",
    "    [1, 0, 0, 2],\n",
    "    [0, 1, 0, 0],\n",
    "    [0, 0, 1, 0],\n",
    "    [0, 0, 0, 1]\n",
    "])\n",
    "\n",
    "B1 = np.array([0 , 0, 1, 0 , 2, 0])\n",
    "B2 = np.array([0 , 0, 1, 0 , 1, 0])\n",
    "\n",
    "theta_0 = np.array([0 , 30])\n",
    "e_w  = 0.001 # rad / 0.0573 deg\n",
    "e_v = 10^-4 # m\n",
    "\n",
    "\n",
    "# Jacobian matrix\n",
    "T01 = make_exp_matrix(B1, theta_0[0])\n",
    "T12 = make_exp_matrix(B2, theta_0[1])\n",
    "\n",
    "\n",
    "T02 = T01 @ T12\n",
    "print(T02)\n"
   ]
  },
  {
   "cell_type": "code",
   "execution_count": null,
   "id": "c21d11d4",
   "metadata": {},
   "outputs": [],
   "source": [
    "def NewRap(xd, theta ,epilson , f , J):\n",
    "    i = 0\n",
    "    e = xd - f(theta)\n",
    "    while e > epilson:\n",
    "        theta = theta + J(theta) * 0.1\n",
    "        e = xd - f(theta)\n",
    "        i += 1\n",
    "    return theta, i, e"
   ]
  },
  {
   "cell_type": "markdown",
   "id": "5cf70596",
   "metadata": {},
   "source": []
  }
 ],
 "metadata": {
  "kernelspec": {
   "display_name": "playground",
   "language": "python",
   "name": "python3"
  },
  "language_info": {
   "codemirror_mode": {
    "name": "ipython",
    "version": 3
   },
   "file_extension": ".py",
   "mimetype": "text/x-python",
   "name": "python",
   "nbconvert_exporter": "python",
   "pygments_lexer": "ipython3",
   "version": "3.11.11"
  }
 },
 "nbformat": 4,
 "nbformat_minor": 5
}
