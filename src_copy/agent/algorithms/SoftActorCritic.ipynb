{
 "cells": [
  {
   "cell_type": "markdown",
   "id": "560decb5",
   "metadata": {},
   "source": [
    "https://arxiv.org/pdf/1801.01290"
   ]
  },
  {
   "cell_type": "markdown",
   "id": "348ec8b8",
   "metadata": {},
   "source": [
    "# Soft Actor-Critic (SAC) Algorithm Implementation\n",
    "\n",
    "The environment is defined by the tuple $ (\\mathcal{S}, \\mathcal{A}, p, r)$, where:\n",
    "\n",
    "- $\\mathcal{S}$: State space  \n",
    "- $\\mathcal{A}$: Action space  \n",
    "- $p$: Transition probability  \n",
    "- $r$: Reward function  \n",
    "\n",
    "The components are defined as:\n",
    "\n",
    "- $p : \\mathcal{S} \\times \\mathcal{A} \\times \\mathcal{S} \\rightarrow [0, \\infty)$, representing the probability density of the next state given the current state and action.  \n",
    "- $r : \\mathcal{S} \\times \\mathcal{A} \\rightarrow \\mathbb{R}$, representing the reward function.\n"
   ]
  },
  {
   "cell_type": "markdown",
   "id": "5d147ece",
   "metadata": {},
   "source": [
    "OG reward :\n",
    "\n",
    "\n",
    "$$\n",
    "\\sum_{t} \\mathbb{E}_{(s_t, a_t) \\sim \\rho^\\pi} \\left[ r(s_t, a_t) \\right]\n",
    "$$\n",
    "\n",
    "\n",
    "reward function is :\n",
    "\n",
    "$$\n",
    "J(\\pi) = \\sum_{t=0}^{T} \\mathbb{E}_{(s_t, a_t) \\sim \\rho^\\pi} \\left[ r(s_t, a_t) + \\alpha \\mathcal{H}(\\pi(\\cdot \\mid s_t)) \\right]\n",
    "$$\n",
    "\n",
    "\n",
    "$ \\alpha $ determines the relative importance of the entropy term against the reward , thus control the stochasiticity of the policy\n",
    "\n",
    "\n",
    "\n",
    "## pros :\n",
    "\n",
    "- incentivized to explore more widely\n",
    "\n"
   ]
  },
  {
   "cell_type": "markdown",
   "id": "d4618c3b",
   "metadata": {},
   "source": [
    "### actor ( the policy class )\n",
    "\n"
   ]
  },
  {
   "cell_type": "code",
   "execution_count": 1,
   "id": "7a243b42",
   "metadata": {},
   "outputs": [
    {
     "ename": "SyntaxError",
     "evalue": "invalid syntax (3654502141.py, line 33)",
     "output_type": "error",
     "traceback": [
      "  \u001b[36mCell\u001b[39m\u001b[36m \u001b[39m\u001b[32mIn[1]\u001b[39m\u001b[32m, line 33\u001b[39m\n\u001b[31m    \u001b[39m\u001b[31maction_dim =\u001b[39m\n                 ^\n\u001b[31mSyntaxError\u001b[39m\u001b[31m:\u001b[39m invalid syntax\n"
     ]
    }
   ],
   "source": [
    "from torch import nn\n",
    "\n",
    "\n",
    "\n",
    "class Policy():\n",
    "\n",
    "    def __init__(\n",
    "        self , \n",
    "        action_space,\n",
    "        observation_space,\n",
    "        net_arch,\n",
    "        feature_extractor: nn.Module,\n",
    "        features_dim : int ,\n",
    "        use_sde : bool, # whether to use state dependent exploration\n",
    "        log_std_init,\n",
    "        full_std,\n",
    "        use_expln,\n",
    "        clip_mean,\n",
    "        normalize_images, ##???? # I am not sharing the feature extractor \n",
    "        activation_fn: type[nn.Module] = nn.ReLU,\n",
    "    ):\n",
    "        self.action_space = action_space\n",
    "        self.observation_space = observation_space\n",
    "        self.net_arch = net_arch\n",
    "        self.feature_extractor = feature_extractor\n",
    "        self.features_dim = features_dim\n",
    "        self.use_sde = use_sde\n",
    "        self.log_std_init = log_std_init\n",
    "        self.full_std = full_std\n",
    "        self.use_expln = use_expln\n",
    "        self.clip_mean = clip_mean\n",
    "\n",
    "        action_dim = \n",
    "        \n",
    "        \n",
    "        "
   ]
  },
  {
   "cell_type": "markdown",
   "id": "82f2bc28",
   "metadata": {},
   "source": [
    "### policy evaluation step"
   ]
  },
  {
   "cell_type": "code",
   "execution_count": null,
   "id": "dd839d2e",
   "metadata": {},
   "outputs": [],
   "source": [
    "\n",
    "\n",
    "\n",
    "def sac_iter(\n",
    "        self,\n",
    "        replay_buffer,\n",
    "        env, \n",
    "        action,\n",
    "          ):\n",
    "    \n",
    "    for i in range(self.env_iter):\n",
    "        env_sample_function()\n",
    "\n",
    "    for i in range(self.gradient_iter):\n",
    "        \n",
    "\n"
   ]
  },
  {
   "cell_type": "code",
   "execution_count": null,
   "id": "0521e915",
   "metadata": {},
   "outputs": [],
   "source": [
    "def  soft_policy(Q_function ,  reward_function , gamma , v_function):\n",
    "    "
   ]
  },
  {
   "cell_type": "code",
   "execution_count": null,
   "id": "d4febacb",
   "metadata": {},
   "outputs": [],
   "source": [
    "def train(gradient_steps : int , batc_size: int = 6)"
   ]
  },
  {
   "cell_type": "code",
   "execution_count": 3,
   "id": "2096482d",
   "metadata": {},
   "outputs": [
    {
     "name": "stdout",
     "output_type": "stream",
     "text": [
      "Collecting gymnasium\n",
      "  Using cached gymnasium-1.1.1-py3-none-any.whl.metadata (9.4 kB)\n",
      "Collecting numpy>=1.21.0 (from gymnasium)\n",
      "  Downloading numpy-2.2.6-cp311-cp311-win_amd64.whl.metadata (60 kB)\n",
      "Collecting cloudpickle>=1.2.0 (from gymnasium)\n",
      "  Using cached cloudpickle-3.1.1-py3-none-any.whl.metadata (7.1 kB)\n",
      "Requirement already satisfied: typing-extensions>=4.3.0 in c:\\users\\teeds\\desktop\\projects\\diamond\\.venv\\lib\\site-packages (from gymnasium) (4.13.2)\n",
      "Collecting farama-notifications>=0.0.1 (from gymnasium)\n",
      "  Using cached Farama_Notifications-0.0.4-py3-none-any.whl.metadata (558 bytes)\n",
      "Using cached gymnasium-1.1.1-py3-none-any.whl (965 kB)\n",
      "Using cached cloudpickle-3.1.1-py3-none-any.whl (20 kB)\n",
      "Using cached Farama_Notifications-0.0.4-py3-none-any.whl (2.5 kB)\n",
      "Downloading numpy-2.2.6-cp311-cp311-win_amd64.whl (12.9 MB)\n",
      "   ---------------------------------------- 0.0/12.9 MB ? eta -:--:--\n",
      "   ----- ---------------------------------- 1.8/12.9 MB 10.0 MB/s eta 0:00:02\n",
      "   ----------- ---------------------------- 3.7/12.9 MB 9.1 MB/s eta 0:00:02\n",
      "   ---------------- ----------------------- 5.2/12.9 MB 8.6 MB/s eta 0:00:01\n",
      "   ------------------- -------------------- 6.3/12.9 MB 7.4 MB/s eta 0:00:01\n",
      "   ------------------------ --------------- 7.9/12.9 MB 7.4 MB/s eta 0:00:01\n",
      "   --------------------------- ------------ 8.9/12.9 MB 7.1 MB/s eta 0:00:01\n",
      "   ------------------------------ --------- 9.7/12.9 MB 6.6 MB/s eta 0:00:01\n",
      "   ---------------------------------- ----- 11.0/12.9 MB 6.5 MB/s eta 0:00:01\n",
      "   -------------------------------------- - 12.3/12.9 MB 6.4 MB/s eta 0:00:01\n",
      "   ---------------------------------------  12.8/12.9 MB 6.4 MB/s eta 0:00:01\n",
      "   ---------------------------------------- 12.9/12.9 MB 5.9 MB/s eta 0:00:00\n",
      "Installing collected packages: farama-notifications, numpy, cloudpickle, gymnasium\n",
      "\n",
      "   ---------- ----------------------------- 1/4 [numpy]\n",
      "   ---------- ----------------------------- 1/4 [numpy]\n",
      "   ---------- ----------------------------- 1/4 [numpy]\n",
      "   ---------- ----------------------------- 1/4 [numpy]\n",
      "   ---------- ----------------------------- 1/4 [numpy]\n",
      "   ---------- ----------------------------- 1/4 [numpy]\n",
      "   ---------- ----------------------------- 1/4 [numpy]\n",
      "   ---------- ----------------------------- 1/4 [numpy]\n",
      "   ---------- ----------------------------- 1/4 [numpy]\n",
      "   ---------- ----------------------------- 1/4 [numpy]\n",
      "   ---------- ----------------------------- 1/4 [numpy]\n",
      "   ---------- ----------------------------- 1/4 [numpy]\n",
      "   ---------- ----------------------------- 1/4 [numpy]\n",
      "   ---------- ----------------------------- 1/4 [numpy]\n",
      "   ---------- ----------------------------- 1/4 [numpy]\n",
      "   ---------- ----------------------------- 1/4 [numpy]\n",
      "   ---------- ----------------------------- 1/4 [numpy]\n",
      "   ---------- ----------------------------- 1/4 [numpy]\n",
      "   ---------- ----------------------------- 1/4 [numpy]\n",
      "   ---------- ----------------------------- 1/4 [numpy]\n",
      "   ---------- ----------------------------- 1/4 [numpy]\n",
      "   ---------- ----------------------------- 1/4 [numpy]\n",
      "   ---------- ----------------------------- 1/4 [numpy]\n",
      "   ---------- ----------------------------- 1/4 [numpy]\n",
      "   ---------- ----------------------------- 1/4 [numpy]\n",
      "   ---------- ----------------------------- 1/4 [numpy]\n",
      "   ---------- ----------------------------- 1/4 [numpy]\n",
      "   ---------- ----------------------------- 1/4 [numpy]\n",
      "   ---------- ----------------------------- 1/4 [numpy]\n",
      "   ---------- ----------------------------- 1/4 [numpy]\n",
      "   ---------- ----------------------------- 1/4 [numpy]\n",
      "   ---------- ----------------------------- 1/4 [numpy]\n",
      "   ---------- ----------------------------- 1/4 [numpy]\n",
      "   ---------- ----------------------------- 1/4 [numpy]\n",
      "   ---------- ----------------------------- 1/4 [numpy]\n",
      "   ---------- ----------------------------- 1/4 [numpy]\n",
      "   ---------- ----------------------------- 1/4 [numpy]\n",
      "   ---------- ----------------------------- 1/4 [numpy]\n",
      "   ---------- ----------------------------- 1/4 [numpy]\n",
      "   ---------- ----------------------------- 1/4 [numpy]\n",
      "   ---------- ----------------------------- 1/4 [numpy]\n",
      "   ---------- ----------------------------- 1/4 [numpy]\n",
      "   ---------- ----------------------------- 1/4 [numpy]\n",
      "   ---------- ----------------------------- 1/4 [numpy]\n",
      "   ---------- ----------------------------- 1/4 [numpy]\n",
      "   ---------- ----------------------------- 1/4 [numpy]\n",
      "   ---------- ----------------------------- 1/4 [numpy]\n",
      "   ---------- ----------------------------- 1/4 [numpy]\n",
      "   ---------- ----------------------------- 1/4 [numpy]\n",
      "   ---------- ----------------------------- 1/4 [numpy]\n",
      "   ---------- ----------------------------- 1/4 [numpy]\n",
      "   ---------- ----------------------------- 1/4 [numpy]\n",
      "   ---------- ----------------------------- 1/4 [numpy]\n",
      "   ---------- ----------------------------- 1/4 [numpy]\n",
      "   ---------- ----------------------------- 1/4 [numpy]\n",
      "   ------------------------------ --------- 3/4 [gymnasium]\n",
      "   ------------------------------ --------- 3/4 [gymnasium]\n",
      "   ------------------------------ --------- 3/4 [gymnasium]\n",
      "   ------------------------------ --------- 3/4 [gymnasium]\n",
      "   ------------------------------ --------- 3/4 [gymnasium]\n",
      "   ------------------------------ --------- 3/4 [gymnasium]\n",
      "   ------------------------------ --------- 3/4 [gymnasium]\n",
      "   ------------------------------ --------- 3/4 [gymnasium]\n",
      "   ------------------------------ --------- 3/4 [gymnasium]\n",
      "   ------------------------------ --------- 3/4 [gymnasium]\n",
      "   ------------------------------ --------- 3/4 [gymnasium]\n",
      "   ------------------------------ --------- 3/4 [gymnasium]\n",
      "   ------------------------------ --------- 3/4 [gymnasium]\n",
      "   ------------------------------ --------- 3/4 [gymnasium]\n",
      "   ---------------------------------------- 4/4 [gymnasium]\n",
      "\n",
      "Successfully installed cloudpickle-3.1.1 farama-notifications-0.0.4 gymnasium-1.1.1 numpy-2.2.6\n"
     ]
    }
   ],
   "source": [
    "!pip install gymnasium"
   ]
  },
  {
   "cell_type": "code",
   "execution_count": 4,
   "id": "14bba481",
   "metadata": {},
   "outputs": [],
   "source": [
    "from gymnasium import spaces\n",
    "\n",
    "action_space = spaces.MultiDiscrete(6)"
   ]
  },
  {
   "cell_type": "code",
   "execution_count": 5,
   "id": "375bc57b",
   "metadata": {},
   "outputs": [
    {
     "data": {
      "text/plain": [
       "array(6)"
      ]
     },
     "execution_count": 5,
     "metadata": {},
     "output_type": "execute_result"
    }
   ],
   "source": [
    "action_space.nvec"
   ]
  },
  {
   "cell_type": "code",
   "execution_count": null,
   "id": "ab9f7031",
   "metadata": {},
   "outputs": [],
   "source": []
  }
 ],
 "metadata": {
  "kernelspec": {
   "display_name": ".venv",
   "language": "python",
   "name": "python3"
  },
  "language_info": {
   "codemirror_mode": {
    "name": "ipython",
    "version": 3
   },
   "file_extension": ".py",
   "mimetype": "text/x-python",
   "name": "python",
   "nbconvert_exporter": "python",
   "pygments_lexer": "ipython3",
   "version": "3.11.9"
  }
 },
 "nbformat": 4,
 "nbformat_minor": 5
}
